{
  "nbformat": 4,
  "nbformat_minor": 0,
  "metadata": {
    "colab": {
      "provenance": [],
      "collapsed_sections": [
        "T5T9_0DE3R-M",
        "vv-FL9Dk5daX",
        "Xb0JgYDhLjBP",
        "IXC9lV4bayt4"
      ],
      "authorship_tag": "ABX9TyNLSBPXFTaByrLWXp89iGqA",
      "include_colab_link": true
    },
    "kernelspec": {
      "name": "python3",
      "display_name": "Python 3"
    },
    "language_info": {
      "name": "python"
    }
  },
  "cells": [
    {
      "cell_type": "markdown",
      "metadata": {
        "id": "view-in-github",
        "colab_type": "text"
      },
      "source": [
        "<a href=\"https://colab.research.google.com/github/VieVyyy/CS114.O21/blob/main/WECODE%20Assignments/Assignment1.ipynb\" target=\"_parent\"><img src=\"https://colab.research.google.com/assets/colab-badge.svg\" alt=\"Open In Colab\"/></a>"
      ]
    },
    {
      "cell_type": "markdown",
      "source": [
        "# ***Drawing***"
      ],
      "metadata": {
        "id": "n2t1rM1y1Zw8"
      }
    },
    {
      "cell_type": "code",
      "source": [
        "def CountBlackCell(Paper):\n",
        "    count = 0\n",
        "    for r in range(len(Paper)):\n",
        "        for c in range(len(Paper[0])):\n",
        "            if Paper[r][c] == '#': count += 1\n",
        "    return count\n",
        "\n",
        "def Painting(Paper, H, W, K):\n",
        "    ways = 0\n",
        "    for i in range(2**H):\n",
        "        for j in range(2**W):\n",
        "            paint = []\n",
        "            for r in Paper:\n",
        "                paint.append(list(r))\n",
        "            for r in range(H):\n",
        "                if i & (1<<r):\n",
        "                    for c in range(W):\n",
        "                       paint[r][c] = '_'\n",
        "            for c in range(W):\n",
        "                if j & (1<<c):\n",
        "                    for r in range(H):\n",
        "                        paint[r][c] = '_'\n",
        "            if CountBlackCell(paint) == K:\n",
        "                ways += 1\n",
        "    return ways\n",
        "\n",
        "h, w, k = map(int, input().split())\n",
        "paper = []\n",
        "for _ in range(h):\n",
        "    paper.append(list(input()))\n",
        "\n",
        "print(Painting(paper, h, w, k))"
      ],
      "metadata": {
        "colab": {
          "base_uri": "https://localhost:8080/"
        },
        "id": "SfMbM_QZ1c5e",
        "outputId": "6a6560e9-0c29-4347-ba3f-571998257541"
      },
      "execution_count": 3,
      "outputs": [
        {
          "output_type": "stream",
          "name": "stdout",
          "text": [
            "2 3 2\n",
            "..#\n",
            "###\n",
            "5\n"
          ]
        }
      ]
    },
    {
      "cell_type": "markdown",
      "source": [
        "# ***Loto***"
      ],
      "metadata": {
        "id": "vv-FL9Dk5daX"
      }
    },
    {
      "cell_type": "code",
      "source": [
        "def CheckRow(L, num):\n",
        "  for t in L:\n",
        "    dem = 0\n",
        "    for i in range(3):\n",
        "      if t[i] in num:\n",
        "        dem += 1\n",
        "    if dem == 3:\n",
        "      return 1\n",
        "  return 0\n",
        "\n",
        "def CheckCol(L, num):\n",
        "  for col in range(3):\n",
        "    dem = 0\n",
        "    for row in range(3):\n",
        "      if L[row][col] in num:\n",
        "        dem += 1\n",
        "      if dem == 3:\n",
        "        return 1\n",
        "  return 0\n",
        "\n",
        "def CheckDiagonal(L, num):\n",
        "  dem = 0\n",
        "  for i in range(3):\n",
        "    if L[i][i] in num:\n",
        "      dem +=1\n",
        "  if dem == 3:\n",
        "    return 1\n",
        "  else:\n",
        "    dem = 0\n",
        "    row = 0\n",
        "    col = 2\n",
        "    while row < 3 and col >= 0:\n",
        "      if L[row][col] in num:\n",
        "        dem += 1\n",
        "        row += 1\n",
        "        col -= 1\n",
        "      else:\n",
        "        break\n",
        "    if dem == 3:\n",
        "      return 1\n",
        "  return 0\n",
        "Loto_paper = []\n",
        "Loto_paper.append(list(map(int, input().split())))\n",
        "Loto_paper.append(list(map(int, input().split())))\n",
        "Loto_paper.append(list(map(int, input().split())))\n",
        "n = int(input())\n",
        "numbers_list = []\n",
        "for i in range(n):\n",
        "  numbers_list.append(int(input()))\n",
        "if CheckRow(Loto_paper, numbers_list) == 1 or CheckCol(Loto_paper, numbers_list) == 1 or CheckDiagonal(Loto_paper, numbers_list) == 1:\n",
        "  print(\"Yes\")\n",
        "else:\n",
        "  print(\"No\")"
      ],
      "metadata": {
        "colab": {
          "base_uri": "https://localhost:8080/"
        },
        "id": "ae9FLZd1b2Sy",
        "outputId": "abf99890-f7fa-4a67-ae50-4b299654da56"
      },
      "execution_count": null,
      "outputs": [
        {
          "output_type": "stream",
          "name": "stdout",
          "text": [
            "1 2 3\n",
            "6 7 8\n",
            "4 5 0\n",
            "5\n",
            "2\n",
            "8\n",
            "0\n",
            "1\n",
            "1\n",
            "No\n"
          ]
        }
      ]
    },
    {
      "cell_type": "markdown",
      "source": [
        "# ***Station***"
      ],
      "metadata": {
        "id": "HQY4pqGMRQne"
      }
    },
    {
      "cell_type": "code",
      "source": [
        "station = []\n",
        "for i in range(2):\n",
        "  station.append(input())\n",
        "if (station[0][0] == station[0][1] == '#') or (station[0][0] == station[1][0] == '#') or (station[1][0] == station[1][1] == '#') or (station[0][1] == station[1][1] == '#'):\n",
        "  print('Yes')\n",
        "else:\n",
        "  print('No')"
      ],
      "metadata": {
        "colab": {
          "base_uri": "https://localhost:8080/"
        },
        "id": "yeNWMrHlRXe8",
        "outputId": "42288794-1797-4808-94eb-3510abb09e34"
      },
      "execution_count": null,
      "outputs": [
        {
          "output_type": "stream",
          "name": "stdout",
          "text": [
            "#.\n",
            ".#\n",
            "No\n"
          ]
        }
      ]
    },
    {
      "cell_type": "markdown",
      "source": [
        "# ***Key pair***"
      ],
      "metadata": {
        "id": "zNyOYjyWBswS"
      }
    },
    {
      "cell_type": "code",
      "source": [
        "import math\n",
        "\n",
        "def PrimeList(n): # Sive of Eratosthenes\n",
        "    primes = []\n",
        "    sieve = [True]*(n+1)\n",
        "    sieve[0] = sieve[1] = False\n",
        "    for i in range(2, n+1):\n",
        "        if sieve[i] == True:\n",
        "            for j in range(i**2, n+1, i):\n",
        "                sieve[j] = False\n",
        "            primes.append(i)\n",
        "    return primes\n",
        "\n",
        "def IntToPrimeFactors (n, primes):\n",
        "    factors = []\n",
        "    i = 0\n",
        "    while (primes[i] * primes[i] <= n):\n",
        "        if n % primes[i] == 0:\n",
        "            n //= primes[i]\n",
        "            factors.append(primes[i])\n",
        "        else:\n",
        "            i += 1\n",
        "    if n > 1:\n",
        "        factors.append(n)\n",
        "    return factors\n",
        "\n",
        "\n",
        "def CountKeyPair(l, r):\n",
        "    count = 0\n",
        "    special_numbers = []\n",
        "    primes = PrimeList(int(math.sqrt(r)) + 2)\n",
        "    for i in range(l, r+1):\n",
        "        factors = IntToPrimeFactors(i, primes)\n",
        "        unique_factors = set(factors)\n",
        "        if len(factors) == len(unique_factors):\n",
        "            special_numbers.append(unique_factors)\n",
        "    for i in range(len(special_numbers) - 1):\n",
        "        for j in range(i+1, len(special_numbers)):\n",
        "            if len(special_numbers[i].intersection(special_numbers[j])) == 0:\n",
        "                count += 1\n",
        "    return count\n",
        "\n",
        "L, R = map(int, input().split())\n",
        "\n",
        "print(CountKeyPair(L, R))"
      ],
      "metadata": {
        "id": "WRK5KS4qMoFH",
        "colab": {
          "base_uri": "https://localhost:8080/"
        },
        "outputId": "79a98027-fa96-44c2-8287-385f6f2e7a9d"
      },
      "execution_count": 2,
      "outputs": [
        {
          "output_type": "stream",
          "name": "stdout",
          "text": [
            "3 9\n",
            "5\n"
          ]
        }
      ]
    },
    {
      "cell_type": "markdown",
      "source": [
        "# ***Find Squares with One Edge***"
      ],
      "metadata": {
        "id": "T5T9_0DE3R-M"
      }
    },
    {
      "cell_type": "code",
      "source": [
        "import math\n",
        "def ChuyenInt(A):\n",
        "  C = []\n",
        "  for i in A:\n",
        "      C.append([int(i[0]), int(i[1])])\n",
        "  return (C[0], C[1])\n",
        "def Vector(A, B):\n",
        "  return [B[0]-A[0], B[1]-A[1]]\n",
        "def DoDai(A, B):\n",
        "  V = Vector(A, B)\n",
        "  return int(math.sqrt(V[0]**2 + V[1]**2))\n",
        "def TimDiemVuongGoc(A, B):\n",
        "  V = Vector(A, B)\n",
        "  return [[V[1] + A[0], -V[0] + A[1]], [-V[1] + A[0], V[0] + A[1]]]\n",
        "def SapXep(HV):\n",
        "  if HV[0][0] < HV[1][0]: # xA < xB\n",
        "    if HV[0][1] < HV[2][1]: # yA < yC\n",
        "      return [HV[0], HV[2], HV[3], HV[1]] # ACDB\n",
        "    elif HV[0][1] > HV[2][1]:\n",
        "      return [HV[0], HV[1], HV[3], HV[2]] # ABDC\n",
        "  elif HV[0][0] > HV[1][0]: # xA > xB\n",
        "    if HV[0][1] > HV[2][1]: # yA > yC\n",
        "      return [HV[0], HV[2], HV[3], HV[1]] # ACDB\n",
        "    elif HV[0][1] < HV[2][1]: # yA < yC\n",
        "      return [HV[0], HV[1], HV[3], HV[2]] # ABDC\n",
        "  else: # xA = xB\n",
        "    if HV[0][1] < HV[1][1]: # yA < yB\n",
        "      if HV[2][0] < HV[0][0]: # xC < xA\n",
        "        return [HV[0], HV[2], HV[3], HV[1]] # ACDB\n",
        "      else:\n",
        "        return [HV[0], HV[1], HV[3], HV[2]] # ABDC\n",
        "    else:\n",
        "      if HV[2][0] > HV[0][0]: # xC > xA\n",
        "        return [HV[0], HV[2], HV[3], HV[1]] # ACDB\n",
        "      else:\n",
        "        return [HV[0], HV[1], HV[3], HV[2]] # ABDC\n",
        "def PrintSquare(HV):\n",
        "    print(\"({}, {}) ({}, {}) ({}, {}) ({}, {})\".format(HV[0][0], HV[0][1], HV[1][0], HV[1][1], HV[2][0], HV[2][1], HV[3][0], HV[3][1]))\n",
        "A = list(map(int, input().split()))\n",
        "B = list(map(int, input().split()))\n",
        "HV1 = [A, B]\n",
        "HV2 = [A, B]\n",
        "AB = DoDai(A, B)\n",
        "C = TimDiemVuongGoc(A, B)\n",
        "if C[0][0] < C[1][0]: # x1 < x2\n",
        "  HV1.append(C[0])\n",
        "  HV2.append(C[1])\n",
        "elif C[0][0] > C[1][0]: # x1 > x2\n",
        "  HV1.append(C[1])\n",
        "  HV2.append(C[0])\n",
        "else:\n",
        "  if C[0][1] < C[1][1]: # y1 < y2\n",
        "    HV1.append(C[1])\n",
        "    HV2.append(C[0])\n",
        "  else:\n",
        "    HV1.append(C[0])\n",
        "    HV2.append(C[1])\n",
        "D = TimDiemVuongGoc(B, A)\n",
        "if  DoDai(HV1[2], D[0]) == AB:\n",
        "  HV1.append(D[0])\n",
        "  HV2.append(D[1])\n",
        "else:\n",
        "  HV1.append(D[1])\n",
        "  HV2.append(D[0])\n",
        "H1 = SapXep(HV1)\n",
        "H2 = SapXep(HV2)\n",
        "PrintSquare(H1)\n",
        "PrintSquare(H2)"
      ],
      "metadata": {
        "colab": {
          "base_uri": "https://localhost:8080/"
        },
        "id": "Yw8seV-JCOp6",
        "outputId": "0c4025f4-47a8-46f5-8a10-86a19269a538"
      },
      "execution_count": null,
      "outputs": [
        {
          "output_type": "stream",
          "name": "stdout",
          "text": [
            "2 4\n",
            "3 4\n",
            "(2, 4) (2, 5) (3, 5) (3, 4)\n",
            "(2, 4) (3, 4) (3, 3) (2, 3)\n"
          ]
        }
      ]
    },
    {
      "cell_type": "markdown",
      "source": [
        "# ***Trans String***"
      ],
      "metadata": {
        "id": "1rhlf5WPaY4R"
      }
    },
    {
      "cell_type": "code",
      "source": [
        "def Index(c):\n",
        "  return ord(c) - 97\n",
        "def Check(A, B):\n",
        "  if len(A) != len(B):\n",
        "      print('NO')\n",
        "      return\n",
        "  even_char_A = []\n",
        "  odd_char_A = []\n",
        "  even_char_B = []\n",
        "  odd_char_B = []\n",
        "  for i in range(len(A)):\n",
        "    if i%2 == 0:\n",
        "      even_char_A.append(A[i])\n",
        "      even_char_B.append(B[i])\n",
        "    else:\n",
        "      odd_char_A.append(A[i])\n",
        "      odd_char_B.append(B[i])\n",
        "  even_char_A.sort()\n",
        "  even_char_B.sort()\n",
        "  odd_char_A.sort()\n",
        "  odd_char_B.sort()\n",
        "  if (even_char_A != even_char_B) or (odd_char_A != odd_char_B) :\n",
        "    print('NO')\n",
        "    return\n",
        "  print('YES')\n",
        "t = int(input())\n",
        "for _ in range(t):\n",
        "  A, B = input(), input()\n",
        "  Check(A, B)"
      ],
      "metadata": {
        "colab": {
          "base_uri": "https://localhost:8080/"
        },
        "id": "eZAGCx5HaeTE",
        "outputId": "66b2c2fb-f0a0-4301-d98d-f354be9f898f"
      },
      "execution_count": null,
      "outputs": [
        {
          "output_type": "stream",
          "name": "stdout",
          "text": [
            "3\n",
            "hanoi\n",
            "ionah\n",
            "NO\n",
            "hue\n",
            "hue\n",
            "YES\n",
            "hahaha\n",
            "ahahah\n",
            "NO\n"
          ]
        }
      ]
    },
    {
      "cell_type": "markdown",
      "source": [
        "# ***Buy buy buy***"
      ],
      "metadata": {
        "id": "Xb0JgYDhLjBP"
      }
    },
    {
      "cell_type": "code",
      "source": [
        "import re\n",
        "def Check(str, pri, budget):\n",
        "  bud = 0\n",
        "  for i in range(len(str)):\n",
        "    match = re.search(\"....% lower than in-store\", str[i])\n",
        "    if match:\n",
        "      try:\n",
        "        k = float(str[i][match.start() : match.start() + 4])\n",
        "      except:\n",
        "        continue\n",
        "      bud += (1 - k/100)*pri[i]\n",
        "    else: bud += pri[i]\n",
        "  if bud <= budget: return 1\n",
        "  else:\n",
        "    bud = 0\n",
        "    for i in range(len(str)):\n",
        "      match = re.search(\"....% higher than in-store\", str[i])\n",
        "      if match:\n",
        "        try:\n",
        "          k = float(str[i][match.start() : match.start() + 4])\n",
        "        except:\n",
        "          continue\n",
        "        bud += (1 - k/100)*pri[i]\n",
        "      else: bud += pri[i]\n",
        "    if bud <= budget: return 1\n",
        "  return 0\n",
        "price = list(map(int, input().split()))\n",
        "ads = []\n",
        "for i in range(len(price)):\n",
        "  ads.append(input())\n",
        "budget = int(input())\n",
        "if Check(ads, price, budget): print(\"true\")\n",
        "else: print(\"false\")"
      ],
      "metadata": {
        "id": "ijMPhdvxLoqg",
        "colab": {
          "base_uri": "https://localhost:8080/"
        },
        "outputId": "4c67d84f-42f2-4f78-8e1a-7f19d2796e05"
      },
      "execution_count": null,
      "outputs": [
        {
          "output_type": "stream",
          "name": "stdout",
          "text": [
            "501700 989900 254900\n",
            "Contratulation that was 2.4% lower than in-store\n",
            "Should reconsider this item is 20.0% higher than in-store\n",
            "Nice, 22.7% lower than in-store\n",
            "2000000\n",
            "true\n"
          ]
        }
      ]
    },
    {
      "cell_type": "markdown",
      "source": [
        "# ***Binh buy Tablet***"
      ],
      "metadata": {
        "id": "IXC9lV4bayt4"
      }
    },
    {
      "cell_type": "code",
      "source": [
        "import math\n",
        "def CheckPerfect(n):\n",
        "  dem = 0\n",
        "  for x in range(int(n/math.sqrt(2)), n):\n",
        "    y = math.sqrt(n**2 - x**2)\n",
        "    if y.is_integer():\n",
        "      dem += 1\n",
        "  return dem\n",
        "n = int(input())\n",
        "print(CheckPerfect(n))"
      ],
      "metadata": {
        "id": "xOIN0lFAa5Vz",
        "colab": {
          "base_uri": "https://localhost:8080/"
        },
        "outputId": "184b6e26-41f3-47cd-b638-6e53020622a8"
      },
      "execution_count": null,
      "outputs": [
        {
          "output_type": "stream",
          "name": "stdout",
          "text": [
            "325\n",
            "7\n"
          ]
        }
      ]
    }
  ]
}