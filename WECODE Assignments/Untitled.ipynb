{
 "cells": [
  {
   "cell_type": "code",
   "execution_count": 2,
   "id": "e2598d7f",
   "metadata": {},
   "outputs": [
    {
     "name": "stdout",
     "output_type": "stream",
     "text": [
      "Variable   Type      Data/Info\n",
      "------------------------------\n",
      "math       module    <module 'math' (built-in)>\n",
      "p          int       1000\n",
      "r          float     -4.352168887114958\n",
      "s          float     -4.940158120464309\n",
      "u          int       13\n",
      "v          int       30\n",
      "w          float     3.3333333333333335\n",
      "x          int       10\n",
      "y          int       3\n",
      "z          float     -0.5440211108893698\n"
     ]
    }
   ],
   "source": [
    "import math\n",
    "x = 10\n",
    "y = 3\n",
    "u = x + y\n",
    "v = x*y\n",
    "w = x/y\n",
    "z = math.sin(x)\n",
    "r = 8*z\n",
    "s = 5*math.sin(v)\n",
    "p = x**y\n",
    "%whos"
   ]
  },
  {
   "cell_type": "code",
   "execution_count": 5,
   "id": "6368101a",
   "metadata": {
    "scrolled": true
   },
   "outputs": [
    {
     "name": "stdout",
     "output_type": "stream",
     "text": [
      "Variable   Type      Data/Info\n",
      "------------------------------\n",
      "N          int       123\n",
      "S          str       123\n",
      "math       module    <module 'math' (built-in)>\n",
      "p          int       1000\n",
      "r          float     -4.352168887114958\n",
      "s          float     -4.940158120464309\n",
      "u          int       13\n",
      "v          int       30\n",
      "w          float     3.3333333333333335\n",
      "x          int       10\n",
      "y          int       3\n",
      "z          float     -0.5440211108893698\n"
     ]
    }
   ],
   "source": [
    "S = '123'\n",
    "N = int(S)\n",
    "%whos"
   ]
  },
  {
   "cell_type": "code",
   "execution_count": 13,
   "id": "62048216",
   "metadata": {},
   "outputs": [
    {
     "name": "stdout",
     "output_type": "stream",
     "text": [
      "They are not qual.\n",
      "They are equal if the lower method is used on s1.\n",
      "They are equal if the upper method is used on s2.\n"
     ]
    }
   ],
   "source": [
    "s1 = 'HELLO'\n",
    "s2 = 'hello'\n",
    "if s1 == s2:\n",
    "    print('They are equal.')\n",
    "else:\n",
    "    print('They are not qual.')\n",
    "    if (s1.lower() == s2):\n",
    "        print('They are equal if the lower method is used on s1.')\n",
    "    if (s1 == s2.upper()):\n",
    "        print('They are equal if the upper method is used on s2.')"
   ]
  },
  {
   "cell_type": "code",
   "execution_count": 14,
   "id": "7fd87fda",
   "metadata": {},
   "outputs": [
    {
     "name": "stdout",
     "output_type": "stream",
     "text": [
      "The word  Engineering has 11 letters.\n",
      "The word  Book has 4 letters.\n"
     ]
    }
   ],
   "source": [
    "s3 = 'Engineering'\n",
    "s4 = 'Book'\n",
    "l3 = len(s3)\n",
    "l4 = len(s4)\n",
    "print('The word ', s3, 'has', l3, 'letters.')\n",
    "print('The word ', s4, 'has', l4, 'letters.')"
   ]
  },
  {
   "cell_type": "code",
   "execution_count": null,
   "id": "89e27d8e",
   "metadata": {},
   "outputs": [],
   "source": [
    "s5 = 'Python'\n",
    "s6 = 'Python is great!'\n",
    "i = 0\n",
    "while i < len(s6)-len(s5):\n",
    "    if    "
   ]
  }
 ],
 "metadata": {
  "kernelspec": {
   "display_name": "Python 3 (ipykernel)",
   "language": "python",
   "name": "python3"
  },
  "language_info": {
   "codemirror_mode": {
    "name": "ipython",
    "version": 3
   },
   "file_extension": ".py",
   "mimetype": "text/x-python",
   "name": "python",
   "nbconvert_exporter": "python",
   "pygments_lexer": "ipython3",
   "version": "3.11.5"
  }
 },
 "nbformat": 4,
 "nbformat_minor": 5
}
